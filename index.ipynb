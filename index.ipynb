{
 "cells": [
  {
   "cell_type": "markdown",
   "metadata": {},
   "source": [
    "# Scraping Concerts - Lab\n",
    "\n",
    "## Introduction\n",
    "\n",
    "Now that you've seen how to scrape a simple website, it's time to again practice those skills on a full-fledged site!\n",
    "In this lab, you'll practice your scraping skills on a music website: https://www.residentadvisor.net.\n",
    "## Objectives\n",
    "\n",
    "You will be able to:\n",
    "* Scrape events from a website\n",
    "* Follow links to those events to retrieve further information\n",
    "* Clean and store scraped data"
   ]
  },
  {
   "cell_type": "markdown",
   "metadata": {},
   "source": [
    "## View the Website\n",
    "\n",
    "For this lab, you'll be scraping the https://www.residentadvisor.net website. Start by navigating to the events page [here](https://www.residentadvisor.net/events) in your browser.\n",
    "\n",
    "<img src=\"images/ra.png\">"
   ]
  },
  {
   "cell_type": "code",
   "execution_count": null,
   "metadata": {},
   "outputs": [],
   "source": [
    "#Load the https://www.residentadvisor.net/events page in your browser."
   ]
  },
  {
   "cell_type": "markdown",
   "metadata": {},
   "source": [
    "## Open the Inspect Element Feature\n",
    "\n",
    "Next, open the inspect element feature from your web browser in order to preview the underlying HTML associated with the page."
   ]
  },
  {
   "cell_type": "code",
   "execution_count": 1,
   "metadata": {},
   "outputs": [],
   "source": [
    "#Open the inspect element feature in your browser\n",
    "from bs4 import BeautifulSoup\n",
    "import requests\n",
    "import pandas as pd\n",
    "import time\n",
    "import re\n",
    "import numpy as np\n",
    "from splinter import Browser\n",
    "executable_path = {'executable_path':'</path/to/chrome>'}"
   ]
  },
  {
   "cell_type": "markdown",
   "metadata": {},
   "source": [
    "## Write a Function to Scrape all of the Events on the Given Page Events Page\n",
    "\n",
    "The function should return a Pandas DataFrame with columns for the Event_Name, Venue, Event_Date and Number_of_Attendees."
   ]
  },
  {
   "cell_type": "code",
   "execution_count": 22,
   "metadata": {},
   "outputs": [],
   "source": [
    "html_page = requests.get('https://www.residentadvisor.net/events/us/newyork') #Make a get request to retrieve the page\n",
    "soup = BeautifulSoup(html_page.content, 'html.parser')"
   ]
  },
  {
   "cell_type": "code",
   "execution_count": 25,
   "metadata": {},
   "outputs": [
    {
     "name": "stdout",
     "output_type": "stream",
     "text": [
      "<article class=\"event-item clearfix tickets-bkg-logo small-item\" itemscope=\"\" itemtype=\"http://data-vocabulary.org/Event\"><a href=\"/events/1284645#tickets\"><img class=\"nohide\" src=\"https://residentadvisor.net/images/ra-tix.png\" style=\"height: 23px; width: 40px; right: 0px; position: absolute; top: 1px;\"/></a><span style=\"display:none;\"><time datetime=\"2019-07-20T00:00\" itemprop=\"startDate\">2019-07-20T00:00</time></span><div class=\"bbox\"><h1 class=\"event-title\" itemprop=\"summary\"><a href=\"/events/1284645\" itemprop=\"url\" title=\"Event details of Sole Rehab &amp; Signal &gt; Noise present: Garrett David / Vicki Powell\">Sole Rehab &amp; Signal &gt; Noise present: Garrett David / Vicki Powell</a> <span>at <a href=\"/club.aspx?id=140928\">Photo City Improv</a>, <a href=\"/events.aspx?ai=443\">Buffalo/Rochester</a></span></h1></div></article>\n"
     ]
    }
   ],
   "source": [
    "events = soup.findAll('article', class_='event-item')\n",
    "print(events[10])"
   ]
  },
  {
   "cell_type": "code",
   "execution_count": 26,
   "metadata": {},
   "outputs": [
    {
     "name": "stdout",
     "output_type": "stream",
     "text": [
      "Sole Rehab & Signal > Noise present: Garrett David / Vicki Powell\n"
     ]
    }
   ],
   "source": [
    "#eventh1 = event.find('h1', class_='event-title')\n",
    "\n",
    "Event_Name = events[10].h1.a.text\n",
    "\n",
    "print(Event_Name)"
   ]
  },
  {
   "cell_type": "code",
   "execution_count": 40,
   "metadata": {},
   "outputs": [
    {
     "name": "stdout",
     "output_type": "stream",
     "text": [
      "Brooklyn Mirage\n"
     ]
    }
   ],
   "source": [
    "Venue = events[0].h1.span.text[3:]\n",
    "print(Venue)"
   ]
  },
  {
   "cell_type": "code",
   "execution_count": 28,
   "metadata": {},
   "outputs": [
    {
     "name": "stdout",
     "output_type": "stream",
     "text": [
      "2019-07-20\n"
     ]
    }
   ],
   "source": [
    "Event_Date = events[10].time.text[0:-6]\n",
    "print(Event_Date)"
   ]
  },
  {
   "cell_type": "code",
   "execution_count": 30,
   "metadata": {},
   "outputs": [
    {
     "name": "stdout",
     "output_type": "stream",
     "text": [
      "320\n"
     ]
    }
   ],
   "source": [
    "Number_of_Attendees = events[1].p.span.text\n",
    "print(Number_of_Attendees)"
   ]
  },
  {
   "cell_type": "code",
   "execution_count": 31,
   "metadata": {},
   "outputs": [
    {
     "data": {
      "text/plain": [
       "142"
      ]
     },
     "execution_count": 31,
     "metadata": {},
     "output_type": "execute_result"
    }
   ],
   "source": [
    "len(events)"
   ]
  },
  {
   "cell_type": "code",
   "execution_count": 46,
   "metadata": {},
   "outputs": [
    {
     "data": {
      "text/plain": [
       "<bound method NDFrame.head of                                                      0  \\\n",
       "0                 Taste of Dust at The Brooklyn Mirage   \n",
       "1                     ReSolute w Zip & Thomas Melchior   \n",
       "2               Bassiani Night with Héctor Oaks / Ndrx   \n",
       "3    Boat Trippin' x Hotboi Nation with Doc Martin,...   \n",
       "4                  FIXED with Roman Flugel Plus Remedy   \n",
       "5    KUNÁ Sunset Rooftop: Djuma Soundsystem, Bonjou...   \n",
       "6              Baauer, Take a Daytrip and Trillnatured   \n",
       "7        New York Trax & Distrikt1: Thomas P. Heckmann   \n",
       "8                  Dope Jams 5th Annual Open-Air Party   \n",
       "9    Made In Colombia Boat Party with Cristian Aran...   \n",
       "10   Sole Rehab & Signal > Noise present: Garrett D...   \n",
       "11                 The Spectrum presents: Daughter 2.0   \n",
       "12   Warm Up: Take A Daytrip / Smino / Shenseea / B...   \n",
       "13                             Mark Farina, Musclecars   \n",
       "14   Saturday: Seltzer (Precolumbian and Bearcat) a...   \n",
       "15                                         Deep & Sexy   \n",
       "16   Frequencies Birthday Bonanza - Sleepy & Boo, S...   \n",
       "17             D'Noir AM feat. Anthony Lopez & Friends   \n",
       "18   Funk Train with Michael The Lion (Soul Clap) +...   \n",
       "19                     Tedd Patterson - All Night Long   \n",
       "20                        Made In Colombia After Party   \n",
       "21                    Join the Tribe with Saeed Younan   \n",
       "22                                        Disco Locale   \n",
       "23             Dominion: Tunnel (Live), Xiorro, Auspex   \n",
       "24     Sounds of the Nomads presents: Asia/NYC Connect   \n",
       "25       BOUND: Blackout with Louisahhh, LISAS, & More   \n",
       "26                                      Savile & AceMo   \n",
       "27                   The Temptation Vol 1: Cosmic Love   \n",
       "28                      [Outdoor Happy Hour] Meat Haus   \n",
       "29                Le Bain presents Heather and Colette   \n",
       "..                                                 ...   \n",
       "112          Le Youth, Tee Lerrone (Elsewhere Rooftop)   \n",
       "113                     Inoki Roof: Baile (Anjunadeep)   \n",
       "114  Air 06: Nu Sky & Yan Frenkel / Alan Ford / SQD...   \n",
       "115                    Friday: Working Women and Peach   \n",
       "116  Juan Power (Juan Maclean DJ Set + Man Power), ...   \n",
       "117  Apocalipsis presents: Precolumbian B2B estoc, ...   \n",
       "118   Mood OF Mind with Fehrplay and Attlas Boat Party   \n",
       "119  Cassian, Durante, Jordan James Plus Justin Str...   \n",
       "120                  House Konnection ft Kenny Summit.   \n",
       "121           Rendezvous with Garrett David (Smartbar)   \n",
       "122                        The Party on a Boat. Again.   \n",
       "123       Summer Series: Roger Sanchez, Espinal & Nova   \n",
       "124                  ITD: Adrestia, Gia, False Witness   \n",
       "125     Xennial: H0l0's 2-Year Anniversary Celebration   \n",
       "126          Bim Sanga / Lychee / Contakt / Sheepshead   \n",
       "127                Jackie House [of Honey Soundsystem]   \n",
       "128                Schimanski presents: Paul Oakenfold   \n",
       "129  Favors w Dee Diggs + Residents Ashlyn Ace & DJ...   \n",
       "130                            Roar: A Leo Celebration   \n",
       "131       Can't Stop The Feeling Midnight Yacht Cruise   \n",
       "132                              Mo Yasin + Yellowtech   \n",
       "133  Tonight's Special with Tim Zawada and Lauren M...   \n",
       "134                         Shawn Dub, Monchan & Snips   \n",
       "135  All Night with Jubilee + Nasty Nigel + Romina ...   \n",
       "136                                     Groundwire NYC   \n",
       "137          Fehrplay presents Mood of Mind Boat Party   \n",
       "138      Time / Place: Jenifa Mayanja with Darand Land   \n",
       "139          Soul Clap presents New Directions in Funk   \n",
       "140                                     Technofeminism   \n",
       "141                                Sunset Silent Disco   \n",
       "\n",
       "                                                     1           2      3  \n",
       "0                                      Brooklyn Mirage  2019-07-20  544.0  \n",
       "1                                       TBA - New York  2019-07-20  320.0  \n",
       "2                                             BASEMENT  2019-07-20  166.0  \n",
       "3                                  Circle Line Cruises  2019-07-20  162.0  \n",
       "4                                            Good Room  2019-07-20  141.0  \n",
       "5                               The Williamsburg Hotel  2019-07-20  131.0  \n",
       "6                                            Elsewhere  2019-07-20  113.0  \n",
       "7                                                 H0L0  2019-07-20   80.0  \n",
       "8                                         Locust Grove  2019-07-20    NaN  \n",
       "9                                  Circle Line Cruises  2019-07-20    NaN  \n",
       "10                Photo City Improv, Buffalo/Rochester  2019-07-20    NaN  \n",
       "11                                        Market Hotel  2019-07-20    NaN  \n",
       "12                                            MoMA PS1  2019-07-20    NaN  \n",
       "13                                           Elsewhere  2019-07-20    NaN  \n",
       "14                                            Nowadays  2019-07-20    NaN  \n",
       "15                                    Knockdown Center  2019-07-20    NaN  \n",
       "16                                        TBA Brooklyn  2019-07-20    NaN  \n",
       "17                                          Polygon BK  2019-07-20    NaN  \n",
       "18                                     The Sultan Room  2019-07-20    NaN  \n",
       "19                                        House Of Yes  2019-07-20    NaN  \n",
       "20                                             Club 51  2019-07-20    NaN  \n",
       "21                                   Hornblower Cruise  2019-07-20    NaN  \n",
       "22                                           Rose Gold  2019-07-20    NaN  \n",
       "23                               Bossa Nova Civic Club  2019-07-20    NaN  \n",
       "24                                          The Graham  2019-07-20    NaN  \n",
       "25                                           Mood Ring  2019-07-20    NaN  \n",
       "26                                      public records  2019-07-20    NaN  \n",
       "27                                      public records  2019-07-20    NaN  \n",
       "28                                      Arrogant Swine  2019-07-20    NaN  \n",
       "29                                             Le Bain  2019-07-20    NaN  \n",
       "..                                                 ...         ...    ...  \n",
       "112                                          Elsewhere  2019-07-26   50.0  \n",
       "113                             The Williamsburg Hotel  2019-07-26   42.0  \n",
       "114                                       Bogart House  2019-07-26   38.0  \n",
       "115                                           Nowadays  2019-07-26   27.0  \n",
       "116                                          Elsewhere  2019-07-26    8.0  \n",
       "117                                          Elsewhere  2019-07-26    NaN  \n",
       "118                                            Pier 15  2019-07-26    NaN  \n",
       "119                                          Good Room  2019-07-26    NaN  \n",
       "120                                               Eris  2019-07-26    NaN  \n",
       "121                                       TBA Brooklyn  2019-07-26    NaN  \n",
       "122                                            Pier 15  2019-07-26    NaN  \n",
       "123                                Circle Line Cruises  2019-07-26    NaN  \n",
       "124                                          Mood Ring  2019-07-26    NaN  \n",
       "125                                               H0L0  2019-07-26    NaN  \n",
       "126                                      Jupiter Disco  2019-07-26    NaN  \n",
       "127                                     public records  2019-07-26    NaN  \n",
       "128                                         Schimanski  2019-07-26    NaN  \n",
       "129                                           444 Club  2019-07-26    NaN  \n",
       "130                                           The Keep  2019-07-26    NaN  \n",
       "131                                Harbor Lights Yacht  2019-07-26    NaN  \n",
       "132                                          Elsewhere  2019-07-26    NaN  \n",
       "133                                          Rose Gold  2019-07-26    NaN  \n",
       "134                                            Le Bain  2019-07-26    NaN  \n",
       "135                                    The Sultan Room  2019-07-26    NaN  \n",
       "136                                          Rebecca's  2019-07-26    NaN  \n",
       "137                                  Hornblower Cruise  2019-07-26    NaN  \n",
       "138  Adam Mickiewicz Library & Dramatic Circle, Inc...  2019-07-26    NaN  \n",
       "139                                    C'mon Everybody  2019-07-26    NaN  \n",
       "140                              Bossa Nova Civic Club  2019-07-26    NaN  \n",
       "141                             LIC Landing by Coffeed  2019-07-26    NaN  \n",
       "\n",
       "[142 rows x 4 columns]>"
      ]
     },
     "execution_count": 46,
     "metadata": {},
     "output_type": "execute_result"
    }
   ],
   "source": [
    "import numpy as np\n",
    "rows = []\n",
    "for event in events:\n",
    "    Event_Name = event.h1.a.text\n",
    "    Venue = event.h1.span.text[3:]\n",
    "    Event_Date = event.time.text[0:-6]\n",
    "    try:\n",
    "        Number_of_Attendees = int(event.p.span.text)\n",
    "    except:\n",
    "        Number_of_Attendees = np.nan\n",
    "    row = [Event_Name, Venue, Event_Date, Number_of_Attendees]\n",
    "    rows.append(row)\n",
    "df = pd.DataFrame(rows)\n",
    "df.head()"
   ]
  },
  {
   "cell_type": "code",
   "execution_count": 48,
   "metadata": {},
   "outputs": [
    {
     "data": {
      "text/html": [
       "<div>\n",
       "<style scoped>\n",
       "    .dataframe tbody tr th:only-of-type {\n",
       "        vertical-align: middle;\n",
       "    }\n",
       "\n",
       "    .dataframe tbody tr th {\n",
       "        vertical-align: top;\n",
       "    }\n",
       "\n",
       "    .dataframe thead th {\n",
       "        text-align: right;\n",
       "    }\n",
       "</style>\n",
       "<table border=\"1\" class=\"dataframe\">\n",
       "  <thead>\n",
       "    <tr style=\"text-align: right;\">\n",
       "      <th></th>\n",
       "      <th>Event_Name</th>\n",
       "      <th>Venue</th>\n",
       "      <th>Event_Date</th>\n",
       "      <th>Number_of_Attendees</th>\n",
       "    </tr>\n",
       "  </thead>\n",
       "  <tbody>\n",
       "    <tr>\n",
       "      <th>0</th>\n",
       "      <td>Taste of Dust at The Brooklyn Mirage</td>\n",
       "      <td>Brooklyn Mirage</td>\n",
       "      <td>2019-07-20</td>\n",
       "      <td>544.0</td>\n",
       "    </tr>\n",
       "    <tr>\n",
       "      <th>1</th>\n",
       "      <td>ReSolute w Zip &amp; Thomas Melchior</td>\n",
       "      <td>TBA - New York</td>\n",
       "      <td>2019-07-20</td>\n",
       "      <td>320.0</td>\n",
       "    </tr>\n",
       "    <tr>\n",
       "      <th>2</th>\n",
       "      <td>Bassiani Night with Héctor Oaks / Ndrx</td>\n",
       "      <td>BASEMENT</td>\n",
       "      <td>2019-07-20</td>\n",
       "      <td>166.0</td>\n",
       "    </tr>\n",
       "    <tr>\n",
       "      <th>3</th>\n",
       "      <td>Boat Trippin' x Hotboi Nation with Doc Martin,...</td>\n",
       "      <td>Circle Line Cruises</td>\n",
       "      <td>2019-07-20</td>\n",
       "      <td>162.0</td>\n",
       "    </tr>\n",
       "    <tr>\n",
       "      <th>4</th>\n",
       "      <td>FIXED with Roman Flugel Plus Remedy</td>\n",
       "      <td>Good Room</td>\n",
       "      <td>2019-07-20</td>\n",
       "      <td>141.0</td>\n",
       "    </tr>\n",
       "  </tbody>\n",
       "</table>\n",
       "</div>"
      ],
      "text/plain": [
       "                                          Event_Name                Venue  \\\n",
       "0               Taste of Dust at The Brooklyn Mirage      Brooklyn Mirage   \n",
       "1                   ReSolute w Zip & Thomas Melchior       TBA - New York   \n",
       "2             Bassiani Night with Héctor Oaks / Ndrx             BASEMENT   \n",
       "3  Boat Trippin' x Hotboi Nation with Doc Martin,...  Circle Line Cruises   \n",
       "4                FIXED with Roman Flugel Plus Remedy            Good Room   \n",
       "\n",
       "   Event_Date  Number_of_Attendees  \n",
       "0  2019-07-20                544.0  \n",
       "1  2019-07-20                320.0  \n",
       "2  2019-07-20                166.0  \n",
       "3  2019-07-20                162.0  \n",
       "4  2019-07-20                141.0  "
      ]
     },
     "execution_count": 48,
     "metadata": {},
     "output_type": "execute_result"
    }
   ],
   "source": [
    "df.columns = [\"Event_Name\", \"Venue\", \"Event_Date\", \"Number_of_Attendees\"]\n",
    "df.head()"
   ]
  },
  {
   "cell_type": "code",
   "execution_count": 8,
   "metadata": {},
   "outputs": [],
   "source": [
    "def scrape_events(events_page_url):\n",
    "    #Your code here\n",
    "    response = requests.get(events_page_url)\n",
    "    soup = BeautifulSoup(html, 'html.parser')\n",
    "    events = soup.findAll('article', class_='event-item')\n",
    "    \n",
    "    rows = []\n",
    "    for event in events:\n",
    "        event_name = event.h1.a.text\n",
    "        venue = event.h1.span.text[3:]\n",
    "        event_date = event.time.text[0:-6]\n",
    "        try:\n",
    "            number_of_attendees = int(event.p.span.text)\n",
    "        except:\n",
    "            number_of_attendees = np.nan\n",
    "        row = [event_name, venue, event_date, number_of_attendees]\n",
    "        rows.append(row)\n",
    "        \n",
    "    df = pd.DataFrame(rows)\n",
    "    df.columns = [\"Event_Name\", \"Venue\", \"Event_Date\", \"Number_of_Attendees\"]\n",
    "    return df"
   ]
  },
  {
   "cell_type": "code",
   "execution_count": 9,
   "metadata": {},
   "outputs": [
    {
     "data": {
      "text/html": [
       "<div>\n",
       "<style scoped>\n",
       "    .dataframe tbody tr th:only-of-type {\n",
       "        vertical-align: middle;\n",
       "    }\n",
       "\n",
       "    .dataframe tbody tr th {\n",
       "        vertical-align: top;\n",
       "    }\n",
       "\n",
       "    .dataframe thead th {\n",
       "        text-align: right;\n",
       "    }\n",
       "</style>\n",
       "<table border=\"1\" class=\"dataframe\">\n",
       "  <thead>\n",
       "    <tr style=\"text-align: right;\">\n",
       "      <th></th>\n",
       "      <th>Event_Name</th>\n",
       "      <th>Venue</th>\n",
       "      <th>Event_Date</th>\n",
       "      <th>Number_of_Attendees</th>\n",
       "    </tr>\n",
       "  </thead>\n",
       "  <tbody>\n",
       "    <tr>\n",
       "      <th>0</th>\n",
       "      <td>Body &amp; Soul Anniversary: Francois K, Joe Claus...</td>\n",
       "      <td>Brooklyn Mirage</td>\n",
       "      <td>2019-07-21</td>\n",
       "      <td>174.0</td>\n",
       "    </tr>\n",
       "    <tr>\n",
       "      <th>1</th>\n",
       "      <td>Mister Sunday: Justin Carter and Eamon Harkin</td>\n",
       "      <td>Nowadays</td>\n",
       "      <td>2019-07-21</td>\n",
       "      <td>169.0</td>\n",
       "    </tr>\n",
       "    <tr>\n",
       "      <th>2</th>\n",
       "      <td>Chus &amp; Ceballos (Elsewhere Roof)</td>\n",
       "      <td>Elsewhere</td>\n",
       "      <td>2019-07-21</td>\n",
       "      <td>153.0</td>\n",
       "    </tr>\n",
       "    <tr>\n",
       "      <th>3</th>\n",
       "      <td>Miki Beach NYC 'Fundraiser' with Miyagi + Clarian</td>\n",
       "      <td>TBA - Brooklyn</td>\n",
       "      <td>2019-07-21</td>\n",
       "      <td>90.0</td>\n",
       "    </tr>\n",
       "    <tr>\n",
       "      <th>4</th>\n",
       "      <td>Deep &amp; Sexy</td>\n",
       "      <td>Knockdown Center</td>\n",
       "      <td>2019-07-21</td>\n",
       "      <td>NaN</td>\n",
       "    </tr>\n",
       "  </tbody>\n",
       "</table>\n",
       "</div>"
      ],
      "text/plain": [
       "                                          Event_Name             Venue  \\\n",
       "0  Body & Soul Anniversary: Francois K, Joe Claus...   Brooklyn Mirage   \n",
       "1      Mister Sunday: Justin Carter and Eamon Harkin          Nowadays   \n",
       "2                   Chus & Ceballos (Elsewhere Roof)         Elsewhere   \n",
       "3  Miki Beach NYC 'Fundraiser' with Miyagi + Clarian    TBA - Brooklyn   \n",
       "4                                        Deep & Sexy  Knockdown Center   \n",
       "\n",
       "   Event_Date  Number_of_Attendees  \n",
       "0  2019-07-21                174.0  \n",
       "1  2019-07-21                169.0  \n",
       "2  2019-07-21                153.0  \n",
       "3  2019-07-21                 90.0  \n",
       "4  2019-07-21                  NaN  "
      ]
     },
     "execution_count": 9,
     "metadata": {},
     "output_type": "execute_result"
    }
   ],
   "source": [
    "scrape_events('https://www.residentadvisor.net/events/us/newyork').head()"
   ]
  },
  {
   "cell_type": "markdown",
   "metadata": {},
   "source": [
    "## Write a Function to Retrieve the URL for the Next Page"
   ]
  },
  {
   "cell_type": "code",
   "execution_count": 14,
   "metadata": {},
   "outputs": [
    {
     "name": "stdout",
     "output_type": "stream",
     "text": [
      "https://www.residentadvisor.net/events/us/newyork/week/2019-07-29\n"
     ]
    }
   ],
   "source": [
    "    browser = Browser('chrome', headless=False)\n",
    "    browser.visit('https://www.residentadvisor.net/events/us/newyork')\n",
    "    browser.click_link_by_partial_text('Next')\n",
    "    #browser.find_link_by_partial_text('Next')\n",
    "    url = browser.url\n",
    "    print(url)"
   ]
  },
  {
   "cell_type": "code",
   "execution_count": 15,
   "metadata": {},
   "outputs": [],
   "source": [
    "def next_page(url):\n",
    "    #Your code here\n",
    "    browser = Browser('chrome', headless=False)\n",
    "    browser.visit(url)\n",
    "    browser.click_link_by_partial_text('Next')\n",
    "    next_page_url = browser.url\n",
    "    return next_page_url"
   ]
  },
  {
   "cell_type": "markdown",
   "metadata": {},
   "source": [
    "## Scrape the Next 1000 Events for Your Area\n",
    "\n",
    "Display the data sorted by the number of attendees. If there is a tie for the number attending, sort by event date."
   ]
  },
  {
   "cell_type": "code",
   "execution_count": 16,
   "metadata": {},
   "outputs": [
    {
     "name": "stdout",
     "output_type": "stream",
     "text": [
      "100\n"
     ]
    },
    {
     "data": {
      "text/html": [
       "<div>\n",
       "<style scoped>\n",
       "    .dataframe tbody tr th:only-of-type {\n",
       "        vertical-align: middle;\n",
       "    }\n",
       "\n",
       "    .dataframe tbody tr th {\n",
       "        vertical-align: top;\n",
       "    }\n",
       "\n",
       "    .dataframe thead th {\n",
       "        text-align: right;\n",
       "    }\n",
       "</style>\n",
       "<table border=\"1\" class=\"dataframe\">\n",
       "  <thead>\n",
       "    <tr style=\"text-align: right;\">\n",
       "      <th></th>\n",
       "      <th>Event_Name</th>\n",
       "      <th>Venue</th>\n",
       "      <th>Event_Date</th>\n",
       "      <th>Number_of_Attendees</th>\n",
       "    </tr>\n",
       "  </thead>\n",
       "  <tbody>\n",
       "    <tr>\n",
       "      <th>0</th>\n",
       "      <td>Body &amp; Soul Anniversary: Francois K, Joe Claus...</td>\n",
       "      <td>Brooklyn Mirage</td>\n",
       "      <td>2019-07-22</td>\n",
       "      <td>174.0</td>\n",
       "    </tr>\n",
       "    <tr>\n",
       "      <th>1</th>\n",
       "      <td>Miki Beach NYC 'Fundraiser' with Miyagi + Clarian</td>\n",
       "      <td>TBA - Brooklyn</td>\n",
       "      <td>2019-07-22</td>\n",
       "      <td>90.0</td>\n",
       "    </tr>\n",
       "    <tr>\n",
       "      <th>2</th>\n",
       "      <td>Modern Times</td>\n",
       "      <td>Jupiter Disco</td>\n",
       "      <td>2019-07-22</td>\n",
       "      <td>32.0</td>\n",
       "    </tr>\n",
       "    <tr>\n",
       "      <th>3</th>\n",
       "      <td>Sunset Sunday: The Jazz Diaries</td>\n",
       "      <td>Le Bain</td>\n",
       "      <td>2019-07-22</td>\n",
       "      <td>5.0</td>\n",
       "    </tr>\n",
       "    <tr>\n",
       "      <th>4</th>\n",
       "      <td>Rollupalooza: Toribio, Devoye, Auntie Starr, M...</td>\n",
       "      <td>Bossa Nova Civic Club</td>\n",
       "      <td>2019-07-22</td>\n",
       "      <td>NaN</td>\n",
       "    </tr>\n",
       "  </tbody>\n",
       "</table>\n",
       "</div>"
      ],
      "text/plain": [
       "                                          Event_Name                  Venue  \\\n",
       "0  Body & Soul Anniversary: Francois K, Joe Claus...        Brooklyn Mirage   \n",
       "1  Miki Beach NYC 'Fundraiser' with Miyagi + Clarian         TBA - Brooklyn   \n",
       "2                                       Modern Times          Jupiter Disco   \n",
       "3                    Sunset Sunday: The Jazz Diaries                Le Bain   \n",
       "4  Rollupalooza: Toribio, Devoye, Auntie Starr, M...  Bossa Nova Civic Club   \n",
       "\n",
       "   Event_Date  Number_of_Attendees  \n",
       "0  2019-07-22                174.0  \n",
       "1  2019-07-22                 90.0  \n",
       "2  2019-07-22                 32.0  \n",
       "3  2019-07-22                  5.0  \n",
       "4  2019-07-22                  NaN  "
      ]
     },
     "execution_count": 16,
     "metadata": {},
     "output_type": "execute_result"
    }
   ],
   "source": [
    "#Your code here\n",
    "dfs = []\n",
    "total_rows = 0\n",
    "cur_url = \"https://www.residentadvisor.net/events/us/newyork\"\n",
    "while total_rows <= 1000:\n",
    "    df = scrape_events(cur_url)\n",
    "    dfs.append(df)\n",
    "    total_rows += len(df)\n",
    "    cur_url = next_page(cur_url)\n",
    "    time.sleep(1)\n",
    "df = pd.concat(dfs)\n",
    "df = df.iloc[:1000]\n",
    "print(len(df))\n",
    "df.head()\n"
   ]
  },
  {
   "cell_type": "markdown",
   "metadata": {},
   "source": [
    "## Summary \n",
    "\n",
    "Congratulations! In this lab, you successfully scraped a website for concert event information!"
   ]
  }
 ],
 "metadata": {
  "kernelspec": {
   "display_name": "Python 3",
   "language": "python",
   "name": "python3"
  },
  "language_info": {
   "codemirror_mode": {
    "name": "ipython",
    "version": 3
   },
   "file_extension": ".py",
   "mimetype": "text/x-python",
   "name": "python",
   "nbconvert_exporter": "python",
   "pygments_lexer": "ipython3",
   "version": "3.6.4"
  }
 },
 "nbformat": 4,
 "nbformat_minor": 2
}
